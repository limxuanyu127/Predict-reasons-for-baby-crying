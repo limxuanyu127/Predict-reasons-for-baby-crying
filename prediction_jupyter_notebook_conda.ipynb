{
 "cells": [
  {
   "cell_type": "code",
   "execution_count": 1,
   "metadata": {},
   "outputs": [
    {
     "name": "stderr",
     "output_type": "stream",
     "text": [
      "Using TensorFlow backend.\n"
     ]
    }
   ],
   "source": [
    "import os\n",
    "import keras\n",
    "from keras.models import Sequential, model_from_json\n",
    "from keras.models import Model\n",
    "from keras.layers import InputLayer, Input\n",
    "from keras.layers import Reshape, MaxPooling2D\n",
    "#from tensorflow.python.keras.layers import Conv2D, Dense, Flatten, Concatenate, concatenate, Dropout\n",
    "from keras.layers import concatenate, Concatenate, Conv2D, Dense, Flatten, Dropout\n",
    "from keras.preprocessing.image import ImageDataGenerator, image"
   ]
  },
  {
   "cell_type": "code",
   "execution_count": 7,
   "metadata": {},
   "outputs": [
    {
     "name": "stdout",
     "output_type": "stream",
     "text": [
      "test\n"
     ]
    }
   ],
   "source": [
    "print('test')"
   ]
  },
  {
   "cell_type": "code",
   "execution_count": 5,
   "metadata": {},
   "outputs": [
    {
     "name": "stdout",
     "output_type": "stream",
     "text": [
      "Collecting librosa\n",
      "  Downloading https://files.pythonhosted.org/packages/e9/7e/7a0f66f79a70a0a4c163ecf30429f6c1644c88654f135a9eee0bda457626/librosa-0.6.3.tar.gz (1.6MB)\n",
      "Collecting audioread>=2.0.0 (from librosa)\n",
      "  Downloading https://files.pythonhosted.org/packages/f0/41/8cd160c6b2046b997d571a744a7f398f39e954a62dd747b2aae1ad7f07d4/audioread-2.1.6.tar.gz\n",
      "Requirement already satisfied: numpy>=1.8.0 in c:\\users\\limxu\\appdata\\local\\programs\\python\\python36\\lib\\site-packages (from librosa)\n",
      "Requirement already satisfied: scipy>=1.0.0 in c:\\users\\limxu\\appdata\\local\\programs\\python\\python36\\lib\\site-packages (from librosa)\n",
      "Requirement already satisfied: scikit-learn!=0.19.0,>=0.14.0 in c:\\users\\limxu\\appdata\\local\\programs\\python\\python36\\lib\\site-packages (from librosa)\n",
      "Collecting joblib>=0.12 (from librosa)\n",
      "  Downloading https://files.pythonhosted.org/packages/cd/c1/50a758e8247561e58cb87305b1e90b171b8c767b15b12a1734001f41d356/joblib-0.13.2-py2.py3-none-any.whl (278kB)\n",
      "Requirement already satisfied: decorator>=3.0.0 in c:\\users\\limxu\\appdata\\local\\programs\\python\\python36\\lib\\site-packages (from librosa)\n",
      "Requirement already satisfied: six>=1.3 in c:\\users\\limxu\\appdata\\roaming\\python\\python36\\site-packages (from librosa)\n",
      "Collecting resampy>=0.2.0 (from librosa)\n",
      "  Downloading https://files.pythonhosted.org/packages/14/b6/66a06d85474190b50aee1a6c09cdc95bb405ac47338b27e9b21409da1760/resampy-0.2.1.tar.gz (322kB)\n",
      "Collecting numba>=0.38.0 (from librosa)\n",
      "  Downloading https://files.pythonhosted.org/packages/94/03/6f76d15b8357a9012048d624b833f60333e8ac5266354711ff8dcf2075d5/numba-0.43.1-cp36-cp36m-win_amd64.whl (1.8MB)\n",
      "Collecting llvmlite>=0.28.0dev0 (from numba>=0.38.0->librosa)\n",
      "  Downloading https://files.pythonhosted.org/packages/6d/b0/006917794be1285869dc93b4f50a100feb5c52f06e2eef88f0378a616385/llvmlite-0.28.0-cp36-cp36m-win_amd64.whl (11.3MB)\n",
      "Building wheels for collected packages: librosa, audioread, resampy\n",
      "  Running setup.py bdist_wheel for librosa: started\n",
      "  Running setup.py bdist_wheel for librosa: finished with status 'done'\n",
      "  Stored in directory: C:\\Users\\limxu\\AppData\\Local\\pip\\Cache\\wheels\\ce\\49\\68\\87ba660f30e3977f0778e39ee2e944629cd37c2a0ce41f9ff1\n",
      "  Running setup.py bdist_wheel for audioread: started\n",
      "  Running setup.py bdist_wheel for audioread: finished with status 'done'\n",
      "  Stored in directory: C:\\Users\\limxu\\AppData\\Local\\pip\\Cache\\wheels\\53\\02\\90\\7b5c4081b7470c550ab605f600bad237dde12a6b8999b11f50\n",
      "  Running setup.py bdist_wheel for resampy: started\n",
      "  Running setup.py bdist_wheel for resampy: finished with status 'done'\n",
      "  Stored in directory: C:\\Users\\limxu\\AppData\\Local\\pip\\Cache\\wheels\\ff\\4f\\ed\\2e6c676c23efe5394bb40ade50662e90eb46e29b48324c5f9b\n",
      "Successfully built librosa audioread resampy\n",
      "Installing collected packages: audioread, joblib, llvmlite, numba, resampy, librosa\n",
      "Successfully installed audioread-2.1.6 joblib-0.13.2 librosa-0.6.3 llvmlite-0.28.0 numba-0.43.1 resampy-0.2.1\n"
     ]
    },
    {
     "name": "stderr",
     "output_type": "stream",
     "text": [
      "  Cache entry deserialization failed, entry ignored\n",
      "  Cache entry deserialization failed, entry ignored\n",
      "  Cache entry deserialization failed, entry ignored\n",
      "  Cache entry deserialization failed, entry ignored\n",
      "  Cache entry deserialization failed, entry ignored\n",
      "  Cache entry deserialization failed, entry ignored\n",
      "  Cache entry deserialization failed, entry ignored\n",
      "  Cache entry deserialization failed, entry ignored\n",
      "  Cache entry deserialization failed, entry ignored\n",
      "  Cache entry deserialization failed, entry ignored\n",
      "You are using pip version 9.0.3, however version 19.0.3 is available.\n",
      "You should consider upgrading via the 'python -m pip install --upgrade pip' command.\n"
     ]
    }
   ],
   "source": [
    "!pip3 install librosa"
   ]
  },
  {
   "cell_type": "code",
   "execution_count": 12,
   "metadata": {},
   "outputs": [
    {
     "name": "stdout",
     "output_type": "stream",
     "text": [
      "C:\\Users\\limxu\\Documents\\NTU\\Y2S2\\ReDesign\\ML\\jupyternotebook\n"
     ]
    }
   ],
   "source": [
    "!cd"
   ]
  },
  {
   "cell_type": "markdown",
   "metadata": {},
   "source": [
    "# Load model"
   ]
  },
  {
   "cell_type": "code",
   "execution_count": 21,
   "metadata": {},
   "outputs": [],
   "source": [
    "!cd C:\\\\Users\\\\limxu\\\\Documents\\\\NTU\\\\Y2S2\\\\ReDesign\\\\ML\\\\saved_previous"
   ]
  },
  {
   "cell_type": "code",
   "execution_count": 21,
   "metadata": {},
   "outputs": [
    {
     "name": "stdout",
     "output_type": "stream",
     "text": [
      "Loaded model from disk\n",
      "_________________________________________________________________\n",
      "Layer (type)                 Output Shape              Param #   \n",
      "=================================================================\n",
      "dense_1 (Dense)              (None, 256)               10496     \n",
      "_________________________________________________________________\n",
      "activation_1 (Activation)    (None, 256)               0         \n",
      "_________________________________________________________________\n",
      "dense_2 (Dense)              (None, 256)               65792     \n",
      "_________________________________________________________________\n",
      "activation_2 (Activation)    (None, 256)               0         \n",
      "_________________________________________________________________\n",
      "dropout_1 (Dropout)          (None, 256)               0         \n",
      "_________________________________________________________________\n",
      "dense_3 (Dense)              (None, 5)                 1285      \n",
      "_________________________________________________________________\n",
      "output (Activation)          (None, 5)                 0         \n",
      "=================================================================\n",
      "Total params: 77,573\n",
      "Trainable params: 77,573\n",
      "Non-trainable params: 0\n",
      "_________________________________________________________________\n"
     ]
    }
   ],
   "source": [
    "json_file = open('C:\\\\Users\\\\limxu\\\\Documents\\\\NTU\\\\Y2S2\\\\ReDesign\\\\ML\\\\saved_previous\\\\model_config1.json')\n",
    "loaded_model_json = json_file.read()\n",
    "json_file.close()\n",
    "baby_model = model_from_json(loaded_model_json)\n",
    "baby_model.load_weights(\"C:\\\\Users\\\\limxu\\\\Documents\\\\NTU\\\\Y2S2\\\\ReDesign\\\\ML\\\\saved_previous\\\\model_weights1.h5\")\n",
    "print(\"Loaded model from disk\")\n",
    "# fashion_text_model = Model(fashion_text_model.input, last_layer)\n",
    "baby_model.compile(loss='categorical_crossentropy', metrics=['accuracy'], optimizer='adam')\n",
    "baby_model.summary()"
   ]
  },
  {
   "cell_type": "code",
   "execution_count": null,
   "metadata": {},
   "outputs": [],
   "source": [
    "#load test set"
   ]
  },
  {
   "cell_type": "code",
   "execution_count": 16,
   "metadata": {},
   "outputs": [],
   "source": [
    "import IPython.display as ipd\n",
    "import librosa\n",
    "import librosa.display\n",
    "import numpy as np\n",
    "\n",
    "# % pylab inline\n",
    "import os\n",
    "import pandas as pd\n",
    "\n",
    "from sklearn.preprocessing import LabelEncoder\n",
    "\n",
    "from tensorflow.python.keras import utils as np_utils\n",
    "from keras.utils import to_categorical"
   ]
  },
  {
   "cell_type": "code",
   "execution_count": 14,
   "metadata": {},
   "outputs": [],
   "source": [
    "def convertAudio(file_name):\n",
    "  try:\n",
    "    X, sample_rate = librosa.load(file_name, res_type='kaiser_fast')\n",
    "    mfccs = np.mean(librosa.feature.mfcc(y=X, sr=sample_rate, n_mfcc=40).T, axis=0)\n",
    "  except Exception as e:\n",
    "    print(\"Error encountered while parsing file: \", e)\n",
    "    print(e)\n",
    "\n",
    "  x_test1 = mfccs\n",
    "  return x_test1"
   ]
  },
  {
   "cell_type": "code",
   "execution_count": 19,
   "metadata": {},
   "outputs": [],
   "source": [
    "def predictNow(x_test, baby_model):\n",
    "  x_test = x_test.reshape((1, -1))\n",
    "\n",
    "  predictions = baby_model.predict(x_test)\n",
    "  predictions = pd.DataFrame(data=predictions)\n",
    "  predictions = predictions.idxmax(axis=1)\n",
    "\n",
    "  result=predictions[0]\n",
    "\n",
    "\n",
    "  print(predictions)\n",
    "  return result"
   ]
  },
  {
   "cell_type": "code",
   "execution_count": 12,
   "metadata": {},
   "outputs": [],
   "source": [
    "saved_filename='C:\\\\Users\\\\limxu\\\\Documents\\\\NTU\\\\Y2S2\\\\ReDesign\\\\ML\\\\data\\\\data_5\\\\belly pain\\\\69BDA5D6-0276-4462-9BF7-951799563728-1436936185-1.1-m-26-bp.wav'"
   ]
  },
  {
   "cell_type": "code",
   "execution_count": 17,
   "metadata": {},
   "outputs": [],
   "source": [
    "xtest1 = convertAudio(saved_filename)"
   ]
  },
  {
   "cell_type": "code",
   "execution_count": 23,
   "metadata": {},
   "outputs": [
    {
     "name": "stdout",
     "output_type": "stream",
     "text": [
      "0    0\n",
      "dtype: int64\n",
      "0\n"
     ]
    }
   ],
   "source": [
    "results=predictNow(xtest1,baby_model)\n",
    "print(results)"
   ]
  },
  {
   "cell_type": "code",
   "execution_count": 24,
   "metadata": {},
   "outputs": [
    {
     "name": "stdout",
     "output_type": "stream",
     "text": [
      "<class 'str'>\n",
      "belly pain\n"
     ]
    }
   ],
   "source": [
    "if results ==0:\n",
    "    answer='belly pain'\n",
    "elif results==1:\n",
    "    answer='burping'\n",
    "elif results==2:\n",
    "    answer='discomfort'\n",
    "elif results==3:\n",
    "    answer='hungry'\n",
    "elif results==4:\n",
    "    answer='tired'\n",
    "else:\n",
    "    answer='no predictions'\n",
    "\n",
    "print(type(answer))\n",
    "print(answer)\n"
   ]
  },
  {
   "cell_type": "code",
   "execution_count": null,
   "metadata": {},
   "outputs": [],
   "source": []
  }
 ],
 "metadata": {
  "kernelspec": {
   "display_name": "Python 3",
   "language": "python",
   "name": "python3"
  },
  "language_info": {
   "codemirror_mode": {
    "name": "ipython",
    "version": 3
   },
   "file_extension": ".py",
   "mimetype": "text/x-python",
   "name": "python",
   "nbconvert_exporter": "python",
   "pygments_lexer": "ipython3",
   "version": "3.6.5"
  }
 },
 "nbformat": 4,
 "nbformat_minor": 2
}
